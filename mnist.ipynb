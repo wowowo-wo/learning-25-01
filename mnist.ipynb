{
  "nbformat": 4,
  "nbformat_minor": 0,
  "metadata": {
    "colab": {
      "provenance": [],
      "authorship_tag": "ABX9TyOLbocyBELKdBRK9yE5ByuH"
    },
    "kernelspec": {
      "name": "python3",
      "display_name": "Python 3"
    },
    "language_info": {
      "name": "python"
    }
  },
  "cells": [
    {
      "cell_type": "code",
      "execution_count": 37,
      "metadata": {
        "id": "DgSK363DO6_C"
      },
      "outputs": [],
      "source": [
        "import tensorflow as tf\n",
        "\n",
        "class NaiveDense:\n",
        "  def __init__(self,input_size,output_size,activation):\n",
        "    self.activation = activation\n",
        "\n",
        "    #(input_size)*(output_size),初期値ランダムの行列Wを作成\n",
        "\n",
        "    w_shape = (input_size,output_size)\n",
        "    w_initial_value = tf.random.uniform(w_shape,minval=0,maxval=1e-1)\n",
        "    self.W = tf.Variable(w_initial_value)\n",
        "\n",
        "    #(output_size)*1サイズ、初期値0のベクトルbを作成\n",
        "    b_shape = (output_size,)\n",
        "    b_initial_value = tf.zeros(b_shape)\n",
        "    self.b = tf.Variable(b_initial_value)\n",
        "\n",
        "  def __call__(self,inputs):\n",
        "    return self.activation(tf.matmul(inputs,self.W)+self.b)\n",
        "\n",
        "  @property\n",
        "  def weights(self):\n",
        "    return [self.W,self.b]"
      ]
    },
    {
      "cell_type": "code",
      "source": [
        "class NaiveSequential:\n",
        "  def __init__(self,layers):\n",
        "    self.layers = layers\n",
        "\n",
        "  def __call__(self,inputs):\n",
        "    x = inputs\n",
        "    for layer in self.layers:\n",
        "      x = layer(x)\n",
        "    return x\n",
        "\n",
        "  @property\n",
        "  def weights(self):\n",
        "    weights = []\n",
        "    for layer in self.layers:\n",
        "      weights += layer.weights\n",
        "    return weights"
      ],
      "metadata": {
        "id": "hbkxxIfxQ9W_"
      },
      "execution_count": 38,
      "outputs": []
    },
    {
      "cell_type": "code",
      "source": [
        "model = NaiveSequential([NaiveDense(input_size = 28*28, output_size=512, activation=tf.nn.relu),\n",
        "                         NaiveDense(input_size = 512, output_size=10, activation=tf.nn.softmax)])\n",
        "assert len(model.weights)==4"
      ],
      "metadata": {
        "id": "T9cuZHUSR3Hm"
      },
      "execution_count": 39,
      "outputs": []
    },
    {
      "cell_type": "code",
      "source": [
        "import math\n",
        "class BatchGenerator:\n",
        "  def __init__(self,images,labels,batch_size=128):\n",
        "    assert len(images) == len(labels)\n",
        "    self.index=0\n",
        "    self.images=images\n",
        "    self.labels=labels\n",
        "    self.batch_size=batch_size\n",
        "    self.num_batches = math.ceil(len(images)/batch_size)\n",
        "\n",
        "  def next(self):\n",
        "    images = self.images[self.index : self.index + self.batch_size]\n",
        "    labels = self.labels[self.index : self.index + self.batch_size]\n",
        "    self.index += self.batch_size\n",
        "    return images,labels"
      ],
      "metadata": {
        "id": "5yRekyi3ShbT"
      },
      "execution_count": 40,
      "outputs": []
    },
    {
      "cell_type": "code",
      "source": [
        "learning_rate = 1e-3\n",
        "\n",
        "from tensorflow.keras import optimizers\n",
        "\n",
        "optimizer = optimizers.SGD(learning_rate=1e-3)\n",
        "\n",
        "def update_weights(gradients,weights):\n",
        "  optimizer.apply_gradients(zip(gradients,weights))"
      ],
      "metadata": {
        "id": "wyfGyfuJVt9k"
      },
      "execution_count": 41,
      "outputs": []
    },
    {
      "cell_type": "code",
      "source": [
        "def one_training_step(model,images_batch,labels_batch):\n",
        "  with tf.GradientTape() as tape:\n",
        "    predictions = model(images_batch)\n",
        "    per_sample_losses = tf.keras.losses.sparse_categorical_crossentropy(labels_batch,predictions)\n",
        "    average_loss = tf.reduce_mean(per_sample_losses)\n",
        "\n",
        "  gradients = tape.gradient(average_loss,model.weights)\n",
        "  update_weights(gradients,model.weights)\n",
        "  return average_loss"
      ],
      "metadata": {
        "id": "SeOXbVCEUHBU"
      },
      "execution_count": 42,
      "outputs": []
    },
    {
      "cell_type": "code",
      "source": [
        "def fit(model,images,labels,epochs,batch_size=128):\n",
        "  for epoch_counter in range(epochs):\n",
        "    print(f\"Epoch number {epoch_counter}\")\n",
        "    batch_generator = BatchGenerator(images,labels)\n",
        "    for batch_counter in range(batch_generator.num_batches):\n",
        "      images_batch, labels_batch=batch_generator.next()\n",
        "      loss = one_training_step(model,images_batch,labels_batch)\n",
        "      if batch_counter % 100 ==0:\n",
        "        print(f\"loss at batch {batch_counter}: {loss:.2f}\")"
      ],
      "metadata": {
        "id": "HoUNiDqFVnq-"
      },
      "execution_count": 43,
      "outputs": []
    },
    {
      "cell_type": "code",
      "source": [
        "from tensorflow.keras.datasets import mnist\n",
        "(train_images, train_labels), (test_images, test_labels) = mnist.load_data()\n",
        "\n",
        "train_images = train_images.reshape((60000,28*28))\n",
        "train_images = train_images.astype(\"float32\")/255\n",
        "test_images = test_images.reshape((10000,28*28))\n",
        "test_images = test_images.astype(\"float32\")/255\n",
        "\n",
        "fit(model,train_images,train_labels,epochs=10,batch_size=128)\n"
      ],
      "metadata": {
        "colab": {
          "base_uri": "https://localhost:8080/"
        },
        "id": "cvLT5L7UXopc",
        "outputId": "deba6160-629e-47e0-d06e-9f503dacde95"
      },
      "execution_count": 44,
      "outputs": [
        {
          "output_type": "stream",
          "name": "stdout",
          "text": [
            "Epoch number 0\n",
            "loss at batch 0: 4.44\n",
            "loss at batch 100: 2.25\n",
            "loss at batch 200: 2.20\n",
            "loss at batch 300: 2.09\n",
            "loss at batch 400: 2.20\n",
            "Epoch number 1\n",
            "loss at batch 0: 1.89\n",
            "loss at batch 100: 1.88\n",
            "loss at batch 200: 1.82\n",
            "loss at batch 300: 1.71\n",
            "loss at batch 400: 1.81\n",
            "Epoch number 2\n",
            "loss at batch 0: 1.56\n",
            "loss at batch 100: 1.57\n",
            "loss at batch 200: 1.49\n",
            "loss at batch 300: 1.42\n",
            "loss at batch 400: 1.49\n",
            "Epoch number 3\n",
            "loss at batch 0: 1.31\n",
            "loss at batch 100: 1.34\n",
            "loss at batch 200: 1.22\n",
            "loss at batch 300: 1.20\n",
            "loss at batch 400: 1.26\n",
            "Epoch number 4\n",
            "loss at batch 0: 1.11\n",
            "loss at batch 100: 1.15\n",
            "loss at batch 200: 1.03\n",
            "loss at batch 300: 1.04\n",
            "loss at batch 400: 1.10\n",
            "Epoch number 5\n",
            "loss at batch 0: 0.97\n",
            "loss at batch 100: 1.01\n",
            "loss at batch 200: 0.89\n",
            "loss at batch 300: 0.92\n",
            "loss at batch 400: 0.98\n",
            "Epoch number 6\n",
            "loss at batch 0: 0.86\n",
            "loss at batch 100: 0.91\n",
            "loss at batch 200: 0.79\n",
            "loss at batch 300: 0.83\n",
            "loss at batch 400: 0.90\n",
            "Epoch number 7\n",
            "loss at batch 0: 0.78\n",
            "loss at batch 100: 0.82\n",
            "loss at batch 200: 0.71\n",
            "loss at batch 300: 0.76\n",
            "loss at batch 400: 0.83\n",
            "Epoch number 8\n",
            "loss at batch 0: 0.72\n",
            "loss at batch 100: 0.75\n",
            "loss at batch 200: 0.65\n",
            "loss at batch 300: 0.71\n",
            "loss at batch 400: 0.78\n",
            "Epoch number 9\n",
            "loss at batch 0: 0.67\n",
            "loss at batch 100: 0.70\n",
            "loss at batch 200: 0.60\n",
            "loss at batch 300: 0.66\n",
            "loss at batch 400: 0.73\n"
          ]
        }
      ]
    },
    {
      "cell_type": "code",
      "source": [
        "import numpy as np\n",
        "predictions = model(test_images)\n",
        "predictions = predictions.numpy()\n",
        "predictions_labels = np.argmax(predictions, axis=1)\n",
        "matches = predictions_labels == test_labels\n",
        "print(np.count_nonzero(matches) / len(matches))"
      ],
      "metadata": {
        "colab": {
          "base_uri": "https://localhost:8080/"
        },
        "id": "c0GIss7CaHO7",
        "outputId": "b75e0a50-9fd8-46c8-c6af-f34b0c78ccb3"
      },
      "execution_count": 46,
      "outputs": [
        {
          "output_type": "stream",
          "name": "stdout",
          "text": [
            "0.8149\n"
          ]
        }
      ]
    },
    {
      "cell_type": "code",
      "source": [],
      "metadata": {
        "id": "VnJ5rFdrchB7"
      },
      "execution_count": null,
      "outputs": []
    },
    {
      "cell_type": "code",
      "source": [],
      "metadata": {
        "id": "XxDB6oxFaHt9"
      },
      "execution_count": null,
      "outputs": []
    }
  ]
}